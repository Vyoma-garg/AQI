{
 "cells": [
  {
   "cell_type": "code",
   "execution_count": 1,
   "metadata": {},
   "outputs": [],
   "source": [
    "import pandas as pd\n",
    "import numpy as np"
   ]
  },
  {
   "cell_type": "code",
   "execution_count": 2,
   "metadata": {
    "collapsed": true
   },
   "outputs": [
    {
     "data": {
      "text/html": [
       "<div>\n",
       "<style scoped>\n",
       "    .dataframe tbody tr th:only-of-type {\n",
       "        vertical-align: middle;\n",
       "    }\n",
       "\n",
       "    .dataframe tbody tr th {\n",
       "        vertical-align: top;\n",
       "    }\n",
       "\n",
       "    .dataframe thead th {\n",
       "        text-align: right;\n",
       "    }\n",
       "</style>\n",
       "<table border=\"1\" class=\"dataframe\">\n",
       "  <thead>\n",
       "    <tr style=\"text-align: right;\">\n",
       "      <th></th>\n",
       "      <th>Unnamed: 0</th>\n",
       "      <th>index</th>\n",
       "      <th>City</th>\n",
       "      <th>Date</th>\n",
       "      <th>PM2.5</th>\n",
       "      <th>PM10</th>\n",
       "      <th>NO</th>\n",
       "      <th>NO2</th>\n",
       "      <th>NOx</th>\n",
       "      <th>NH3</th>\n",
       "      <th>CO</th>\n",
       "      <th>SO2</th>\n",
       "      <th>O3</th>\n",
       "      <th>Benzene</th>\n",
       "      <th>Toluene</th>\n",
       "      <th>AQI</th>\n",
       "      <th>AQI_Bucket</th>\n",
       "    </tr>\n",
       "  </thead>\n",
       "  <tbody>\n",
       "    <tr>\n",
       "      <th>14532</th>\n",
       "      <td>14532</td>\n",
       "      <td>29526</td>\n",
       "      <td>Visakhapatnam</td>\n",
       "      <td>2020-06-27</td>\n",
       "      <td>14.36</td>\n",
       "      <td>31.22</td>\n",
       "      <td>4.02</td>\n",
       "      <td>9.79</td>\n",
       "      <td>12.50</td>\n",
       "      <td>7.79</td>\n",
       "      <td>0.39</td>\n",
       "      <td>7.23</td>\n",
       "      <td>19.40</td>\n",
       "      <td>0.40</td>\n",
       "      <td>1.272</td>\n",
       "      <td>42.0</td>\n",
       "      <td>Good</td>\n",
       "    </tr>\n",
       "    <tr>\n",
       "      <th>14533</th>\n",
       "      <td>14533</td>\n",
       "      <td>29527</td>\n",
       "      <td>Visakhapatnam</td>\n",
       "      <td>2020-06-28</td>\n",
       "      <td>27.89</td>\n",
       "      <td>59.04</td>\n",
       "      <td>7.97</td>\n",
       "      <td>15.98</td>\n",
       "      <td>20.52</td>\n",
       "      <td>11.90</td>\n",
       "      <td>0.74</td>\n",
       "      <td>7.87</td>\n",
       "      <td>26.76</td>\n",
       "      <td>0.76</td>\n",
       "      <td>2.140</td>\n",
       "      <td>76.0</td>\n",
       "      <td>Satisfactory</td>\n",
       "    </tr>\n",
       "    <tr>\n",
       "      <th>14534</th>\n",
       "      <td>14534</td>\n",
       "      <td>29528</td>\n",
       "      <td>Visakhapatnam</td>\n",
       "      <td>2020-06-29</td>\n",
       "      <td>27.89</td>\n",
       "      <td>59.04</td>\n",
       "      <td>7.97</td>\n",
       "      <td>15.98</td>\n",
       "      <td>20.52</td>\n",
       "      <td>11.90</td>\n",
       "      <td>0.74</td>\n",
       "      <td>7.87</td>\n",
       "      <td>26.76</td>\n",
       "      <td>0.76</td>\n",
       "      <td>2.140</td>\n",
       "      <td>76.0</td>\n",
       "      <td>Satisfactory</td>\n",
       "    </tr>\n",
       "    <tr>\n",
       "      <th>14535</th>\n",
       "      <td>14535</td>\n",
       "      <td>29529</td>\n",
       "      <td>Visakhapatnam</td>\n",
       "      <td>2020-06-30</td>\n",
       "      <td>27.89</td>\n",
       "      <td>59.04</td>\n",
       "      <td>7.97</td>\n",
       "      <td>15.98</td>\n",
       "      <td>20.52</td>\n",
       "      <td>11.90</td>\n",
       "      <td>0.74</td>\n",
       "      <td>7.87</td>\n",
       "      <td>26.76</td>\n",
       "      <td>0.76</td>\n",
       "      <td>2.140</td>\n",
       "      <td>76.0</td>\n",
       "      <td>Satisfactory</td>\n",
       "    </tr>\n",
       "    <tr>\n",
       "      <th>14536</th>\n",
       "      <td>14536</td>\n",
       "      <td>29530</td>\n",
       "      <td>Visakhapatnam</td>\n",
       "      <td>2020-07-01</td>\n",
       "      <td>14.36</td>\n",
       "      <td>31.22</td>\n",
       "      <td>4.02</td>\n",
       "      <td>9.79</td>\n",
       "      <td>12.50</td>\n",
       "      <td>7.79</td>\n",
       "      <td>0.39</td>\n",
       "      <td>7.23</td>\n",
       "      <td>19.40</td>\n",
       "      <td>0.40</td>\n",
       "      <td>1.272</td>\n",
       "      <td>42.0</td>\n",
       "      <td>Good</td>\n",
       "    </tr>\n",
       "  </tbody>\n",
       "</table>\n",
       "</div>"
      ],
      "text/plain": [
       "       Unnamed: 0  index           City        Date  PM2.5   PM10    NO  \\\n",
       "14532       14532  29526  Visakhapatnam  2020-06-27  14.36  31.22  4.02   \n",
       "14533       14533  29527  Visakhapatnam  2020-06-28  27.89  59.04  7.97   \n",
       "14534       14534  29528  Visakhapatnam  2020-06-29  27.89  59.04  7.97   \n",
       "14535       14535  29529  Visakhapatnam  2020-06-30  27.89  59.04  7.97   \n",
       "14536       14536  29530  Visakhapatnam  2020-07-01  14.36  31.22  4.02   \n",
       "\n",
       "         NO2    NOx    NH3    CO   SO2     O3  Benzene  Toluene   AQI  \\\n",
       "14532   9.79  12.50   7.79  0.39  7.23  19.40     0.40    1.272  42.0   \n",
       "14533  15.98  20.52  11.90  0.74  7.87  26.76     0.76    2.140  76.0   \n",
       "14534  15.98  20.52  11.90  0.74  7.87  26.76     0.76    2.140  76.0   \n",
       "14535  15.98  20.52  11.90  0.74  7.87  26.76     0.76    2.140  76.0   \n",
       "14536   9.79  12.50   7.79  0.39  7.23  19.40     0.40    1.272  42.0   \n",
       "\n",
       "         AQI_Bucket  \n",
       "14532          Good  \n",
       "14533  Satisfactory  \n",
       "14534  Satisfactory  \n",
       "14535  Satisfactory  \n",
       "14536          Good  "
      ]
     },
     "execution_count": 2,
     "metadata": {},
     "output_type": "execute_result"
    }
   ],
   "source": [
    "df = pd.read_csv('air_quality.csv')\n",
    "df.tail()"
   ]
  },
  {
   "cell_type": "code",
   "execution_count": 3,
   "metadata": {},
   "outputs": [
    {
     "data": {
      "text/plain": [
       "Index(['Unnamed: 0', 'index', 'City', 'Date', 'PM2.5', 'PM10', 'NO', 'NO2',\n",
       "       'NOx', 'NH3', 'CO', 'SO2', 'O3', 'Benzene', 'Toluene', 'AQI',\n",
       "       'AQI_Bucket'],\n",
       "      dtype='object')"
      ]
     },
     "execution_count": 3,
     "metadata": {},
     "output_type": "execute_result"
    }
   ],
   "source": [
    "df.columns"
   ]
  },
  {
   "cell_type": "code",
   "execution_count": 4,
   "metadata": {},
   "outputs": [],
   "source": [
    "import pandasql as ps"
   ]
  },
  {
   "cell_type": "code",
   "execution_count": 6,
   "metadata": {},
   "outputs": [],
   "source": [
    "q1 = \"\"\"SELECT AQI FROM df where Date Like '2018%' \"\"\"\n",
    "q2 = \"\"\"SELECT AQI FROM df where Date Like '2019%' \"\"\"\n",
    "\n",
    "q3 = \"\"\"SELECT AQI FROM df where Date Like '2020-01%' \"\"\"\n",
    "q4 = \"\"\"SELECT AQI FROM df where Date Like '2020-02%' \"\"\"\n",
    "q5 = \"\"\"SELECT AQI FROM df where Date Like '2020-03%' \"\"\"\n",
    "q6 = \"\"\"SELECT AQI FROM df where Date Like '2020-04%' \"\"\"\n",
    "q7 = \"\"\"SELECT AQI FROM df where Date Like '2020-05%' \"\"\"\n",
    "q8 = \"\"\"SELECT AQI FROM df where Date Like '2020-06%' \"\"\"\n",
    "q9 = \"\"\"SELECT AQI FROM df where Date Like '2020-07%' \"\"\""
   ]
  },
  {
   "cell_type": "markdown",
   "metadata": {},
   "source": [
    "# 1. Pre-Covid(July 2018 to Feb 2020) and Post Covid(March 2020 to July 2020) AQI Analysis"
   ]
  },
  {
   "cell_type": "code",
   "execution_count": 7,
   "metadata": {},
   "outputs": [],
   "source": [
    "AQIpre = pd.concat([ps.sqldf(q1, locals()) , ps.sqldf(q2, locals()) , ps.sqldf(q3, locals()) , ps.sqldf(q4, locals())],\n",
    "                   ignore_index=True)"
   ]
  },
  {
   "cell_type": "code",
   "execution_count": 8,
   "metadata": {},
   "outputs": [],
   "source": [
    "AQIpost = pd.concat([ps.sqldf(q5, locals()) , ps.sqldf(q6, locals()) , ps.sqldf(q7, locals()) , ps.sqldf(q8, locals()),\n",
    "                    ps.sqldf(q9, locals())],ignore_index=True)"
   ]
  },
  {
   "cell_type": "code",
   "execution_count": 9,
   "metadata": {},
   "outputs": [
    {
     "name": "stdout",
     "output_type": "stream",
     "text": [
      "AQI    152.723271\n",
      "dtype: float64\n"
     ]
    }
   ],
   "source": [
    "avg_AQIpre = AQIpre.mean(axis=0)\n",
    "print(avg_AQIpre)"
   ]
  },
  {
   "cell_type": "code",
   "execution_count": 10,
   "metadata": {},
   "outputs": [
    {
     "name": "stdout",
     "output_type": "stream",
     "text": [
      "AQI    91.002815\n",
      "dtype: float64\n"
     ]
    }
   ],
   "source": [
    "avg_AQIpost = AQIpost.mean(axis=0)\n",
    "print(avg_AQIpost)"
   ]
  },
  {
   "cell_type": "code",
   "execution_count": 11,
   "metadata": {},
   "outputs": [
    {
     "name": "stdout",
     "output_type": "stream",
     "text": [
      "AQI    40.413262\n",
      "dtype: float64\n"
     ]
    }
   ],
   "source": [
    "decrease_percentage = ((avg_AQIpre - avg_AQIpost)/avg_AQIpre)*100\n",
    "\n",
    "print(decrease_percentage)"
   ]
  },
  {
   "cell_type": "code",
   "execution_count": 13,
   "metadata": {},
   "outputs": [
    {
     "data": {
      "image/png": "[encoded data removed]",
      "text/plain": [
       "<Figure size 640x480 with 1 Axes>"
      ]
     },
     "metadata": {},
     "output_type": "display_data"
    }
   ],
   "source": [
    "import matplotlib.pyplot as plt; plt.rcdefaults()\n",
    "import matplotlib.pyplot as plt\n",
    "\n",
    "objects = ('AQI Pre-Covid','AQI Post Covid','Percentage drop in AQI score')\n",
    "y_pos = np.arange(len(objects))\n",
    "y = [152.723271,91.002815,40.413262]\n",
    "\n",
    "#plt.bar(y_pos, y[0], align='center', color='r', alpha=0.5)\n",
    "#plt.bar(y_pos, y[1], align='center', color='y', alpha=0.5)\n",
    "plt.bar(y_pos, y, align='center', color='b', alpha=1)\n",
    "\n",
    "plt.xticks(y_pos, objects)\n",
    "#plt.ylabel('Usage')\n",
    "plt.title('AQI statistics')\n",
    "\n",
    "plt.show()"
   ]
  },
  {
   "cell_type": "markdown",
   "metadata": {},
   "source": [
    "# 2. Pre-Covid(July 2018 to Feb 2020) and Post Covid(March 2020 to July 2020) O3 Analysis"
   ]
  },
  {
   "cell_type": "code",
   "execution_count": 15,
   "metadata": {},
   "outputs": [],
   "source": [
    "q1 = \"\"\"SELECT O3 FROM df where Date Like '2018%' \"\"\"\n",
    "q2 = \"\"\"SELECT O3 FROM df where Date Like '2019%' \"\"\"\n",
    "\n",
    "q3 = \"\"\"SELECT O3 FROM df where Date Like '2020-01%' \"\"\"\n",
    "q4 = \"\"\"SELECT O3 FROM df where Date Like '2020-02%' \"\"\"\n",
    "q5 = \"\"\"SELECT O3 FROM df where Date Like '2020-03%' \"\"\"\n",
    "q6 = \"\"\"SELECT O3 FROM df where Date Like '2020-04%' \"\"\"\n",
    "q7 = \"\"\"SELECT O3 FROM df where Date Like '2020-05%' \"\"\"\n",
    "q8 = \"\"\"SELECT O3 FROM df where Date Like '2020-06%' \"\"\"\n",
    "q9 = \"\"\"SELECT O3 FROM df where Date Like '2020-07%' \"\"\""
   ]
  },
  {
   "cell_type": "code",
   "execution_count": 16,
   "metadata": {},
   "outputs": [],
   "source": [
    "O3pre = pd.concat([ps.sqldf(q1, locals()) , ps.sqldf(q2, locals()) , ps.sqldf(q3, locals()) , ps.sqldf(q4, locals())],\n",
    "                   ignore_index=True)"
   ]
  },
  {
   "cell_type": "code",
   "execution_count": 17,
   "metadata": {},
   "outputs": [],
   "source": [
    "O3post = pd.concat([ps.sqldf(q5, locals()) , ps.sqldf(q6, locals()) , ps.sqldf(q7, locals()) , ps.sqldf(q8, locals()),\n",
    "                    ps.sqldf(q9, locals())],ignore_index=True)"
   ]
  },
  {
   "cell_type": "code",
   "execution_count": 18,
   "metadata": {},
   "outputs": [
    {
     "name": "stdout",
     "output_type": "stream",
     "text": [
      "O3    31.684494\n",
      "dtype: float64\n"
     ]
    }
   ],
   "source": [
    "avg_O3pre = O3pre.mean(axis=0)\n",
    "print(avg_O3pre)"
   ]
  },
  {
   "cell_type": "code",
   "execution_count": 19,
   "metadata": {},
   "outputs": [
    {
     "name": "stdout",
     "output_type": "stream",
     "text": [
      "O3    28.75875\n",
      "dtype: float64\n"
     ]
    }
   ],
   "source": [
    "avg_O3post = O3post.mean(axis=0)\n",
    "print(avg_O3post)"
   ]
  },
  {
   "cell_type": "code",
   "execution_count": 20,
   "metadata": {},
   "outputs": [
    {
     "name": "stdout",
     "output_type": "stream",
     "text": [
      "O3    9.233991\n",
      "dtype: float64\n"
     ]
    }
   ],
   "source": [
    "decrease_percentage = ((avg_O3pre - avg_O3post)/avg_O3pre)*100\n",
    "\n",
    "print(decrease_percentage)"
   ]
  },
  {
   "cell_type": "code",
   "execution_count": 22,
   "metadata": {},
   "outputs": [
    {
     "data": {
      "image/png": "[encoded data removed]",
      "text/plain": [
       "<Figure size 640x480 with 1 Axes>"
      ]
     },
     "metadata": {},
     "output_type": "display_data"
    }
   ],
   "source": [
    "objects = ('O3 Pre-Covid','O3 Post Covid','Percentage drop in O3 level')\n",
    "y_pos = np.arange(len(objects))\n",
    "y = [31.684494,28.75875,9.233991]\n",
    "\n",
    "#plt.bar(y_pos, y[0], align='center', color='r', alpha=0.5)\n",
    "#plt.bar(y_pos, y[1], align='center', color='y', alpha=0.5)\n",
    "plt.bar(y_pos, y, align='center', color='b', alpha=1)\n",
    "\n",
    "plt.xticks(y_pos, objects)\n",
    "#plt.ylabel('Usage')\n",
    "plt.title('O3 statistics')\n",
    "\n",
    "plt.show()"
   ]
  },
  {
   "cell_type": "markdown",
   "metadata": {},
   "source": [
    "# 3. Pre-Covid(July 2018 to Feb 2020) and Post Covid(March 2020 to July 2020) SO2 Analysis"
   ]
  },
  {
   "cell_type": "code",
   "execution_count": 23,
   "metadata": {},
   "outputs": [],
   "source": [
    "q1 = \"\"\"SELECT SO2 FROM df where Date Like '2018%' \"\"\"\n",
    "q2 = \"\"\"SELECT SO2 FROM df where Date Like '2019%' \"\"\"\n",
    "\n",
    "q3 = \"\"\"SELECT SO2 FROM df where Date Like '2020-01%' \"\"\"\n",
    "q4 = \"\"\"SELECT SO2 FROM df where Date Like '2020-02%' \"\"\"\n",
    "q5 = \"\"\"SELECT SO2 FROM df where Date Like '2020-03%' \"\"\"\n",
    "q6 = \"\"\"SELECT SO2 FROM df where Date Like '2020-04%' \"\"\"\n",
    "q7 = \"\"\"SELECT SO2 FROM df where Date Like '2020-05%' \"\"\"\n",
    "q8 = \"\"\"SELECT SO2 FROM df where Date Like '2020-06%' \"\"\"\n",
    "q9 = \"\"\"SELECT SO2 FROM df where Date Like '2020-07%' \"\"\""
   ]
  },
  {
   "cell_type": "code",
   "execution_count": 24,
   "metadata": {},
   "outputs": [],
   "source": [
    "SO2pre = pd.concat([ps.sqldf(q1, locals()) , ps.sqldf(q2, locals()) , ps.sqldf(q3, locals()) , ps.sqldf(q4, locals())],\n",
    "                   ignore_index=True)"
   ]
  },
  {
   "cell_type": "code",
   "execution_count": 25,
   "metadata": {},
   "outputs": [],
   "source": [
    "SO2post = pd.concat([ps.sqldf(q5, locals()) , ps.sqldf(q6, locals()) , ps.sqldf(q7, locals()) , ps.sqldf(q8, locals()),\n",
    "                    ps.sqldf(q9, locals())],ignore_index=True)"
   ]
  },
  {
   "cell_type": "code",
   "execution_count": 26,
   "metadata": {},
   "outputs": [
    {
     "name": "stdout",
     "output_type": "stream",
     "text": [
      "SO2    12.036758\n",
      "dtype: float64\n"
     ]
    }
   ],
   "source": [
    "avg_SO2pre = SO2pre.mean(axis=0)\n",
    "print(avg_SO2pre)"
   ]
  },
  {
   "cell_type": "code",
   "execution_count": 27,
   "metadata": {},
   "outputs": [
    {
     "name": "stdout",
     "output_type": "stream",
     "text": [
      "SO2    8.882989\n",
      "dtype: float64\n"
     ]
    }
   ],
   "source": [
    "avg_SO2post = SO2post.mean(axis=0)\n",
    "print(avg_SO2post)"
   ]
  },
  {
   "cell_type": "code",
   "execution_count": 28,
   "metadata": {},
   "outputs": [
    {
     "name": "stdout",
     "output_type": "stream",
     "text": [
      "SO2    26.201149\n",
      "dtype: float64\n"
     ]
    }
   ],
   "source": [
    "decrease_percentage = ((avg_SO2pre - avg_SO2post)/avg_SO2pre)*100\n",
    "\n",
    "print(decrease_percentage)"
   ]
  },
  {
   "cell_type": "code",
   "execution_count": 29,
   "metadata": {},
   "outputs": [
    {
     "data": {
      "image/png": "[encoded data removed]",
      "text/plain": [
       "<Figure size 640x480 with 1 Axes>"
      ]
     },
     "metadata": {},
     "output_type": "display_data"
    }
   ],
   "source": [
    "objects = ('SO2 Pre-Covid level','SO2 Post Covid level','Percentage drop in SO2 level')\n",
    "y_pos = np.arange(len(objects))\n",
    "y = [12.036758,8.882989,26.201149]\n",
    "\n",
    "plt.bar(y_pos, y, align='center', color='b', alpha=1)\n",
    "\n",
    "plt.xticks(y_pos, objects)\n",
    "#plt.ylabel('Usage')\n",
    "plt.title('SO2 statistics')\n",
    "\n",
    "plt.show()"
   ]
  },
  {
   "cell_type": "markdown",
   "metadata": {},
   "source": [
    "# 4. Pre-Covid(July 2018 to Feb 2020) and Post Covid(March 2020 to July 2020) NO2 Analysis"
   ]
  },
  {
   "cell_type": "code",
   "execution_count": 30,
   "metadata": {},
   "outputs": [],
   "source": [
    "q1 = \"\"\"SELECT NO2 FROM df where Date Like '2018%' \"\"\"\n",
    "q2 = \"\"\"SELECT NO2 FROM df where Date Like '2019%' \"\"\"\n",
    "\n",
    "q3 = \"\"\"SELECT NO2 FROM df where Date Like '2020-01%' \"\"\"\n",
    "q4 = \"\"\"SELECT NO2 FROM df where Date Like '2020-02%' \"\"\"\n",
    "q5 = \"\"\"SELECT NO2 FROM df where Date Like '2020-03%' \"\"\"\n",
    "q6 = \"\"\"SELECT NO2 FROM df where Date Like '2020-04%' \"\"\"\n",
    "q7 = \"\"\"SELECT NO2 FROM df where Date Like '2020-05%' \"\"\"\n",
    "q8 = \"\"\"SELECT NO2 FROM df where Date Like '2020-06%' \"\"\"\n",
    "q9 = \"\"\"SELECT NO2 FROM df where Date Like '2020-07%' \"\"\""
   ]
  },
  {
   "cell_type": "code",
   "execution_count": 31,
   "metadata": {},
   "outputs": [],
   "source": [
    "NO2pre = pd.concat([ps.sqldf(q1, locals()) , ps.sqldf(q2, locals()) , ps.sqldf(q3, locals()) , ps.sqldf(q4, locals())],\n",
    "                   ignore_index=True)"
   ]
  },
  {
   "cell_type": "code",
   "execution_count": 32,
   "metadata": {},
   "outputs": [],
   "source": [
    "NO2post = pd.concat([ps.sqldf(q5, locals()) , ps.sqldf(q6, locals()) , ps.sqldf(q7, locals()) , ps.sqldf(q8, locals()),\n",
    "                    ps.sqldf(q9, locals())],ignore_index=True)"
   ]
  },
  {
   "cell_type": "code",
   "execution_count": 33,
   "metadata": {},
   "outputs": [
    {
     "name": "stdout",
     "output_type": "stream",
     "text": [
      "NO2    26.199369\n",
      "dtype: float64\n"
     ]
    }
   ],
   "source": [
    "avg_NO2pre = NO2pre.mean(axis=0)\n",
    "print(avg_NO2pre)"
   ]
  },
  {
   "cell_type": "code",
   "execution_count": 34,
   "metadata": {},
   "outputs": [
    {
     "name": "stdout",
     "output_type": "stream",
     "text": [
      "NO2    18.226538\n",
      "dtype: float64\n"
     ]
    }
   ],
   "source": [
    "avg_NO2post = NO2post.mean(axis=0)\n",
    "print(avg_NO2post)"
   ]
  },
  {
   "cell_type": "code",
   "execution_count": 35,
   "metadata": {},
   "outputs": [
    {
     "name": "stdout",
     "output_type": "stream",
     "text": [
      "NO2    30.431383\n",
      "dtype: float64\n"
     ]
    }
   ],
   "source": [
    "decrease_percentage = ((avg_NO2pre - avg_NO2post)/avg_NO2pre)*100\n",
    "\n",
    "print(decrease_percentage)"
   ]
  },
  {
   "cell_type": "code",
   "execution_count": 37,
   "metadata": {},
   "outputs": [
    {
     "data": {
      "image/png": "[encoded data removed]",
      "text/plain": [
       "<Figure size 640x480 with 1 Axes>"
      ]
     },
     "metadata": {},
     "output_type": "display_data"
    }
   ],
   "source": [
    "objects = ('NO2 Pre-Covid level','NO2 Post Covid','Percentage drop in NO2 level')\n",
    "y_pos = np.arange(len(objects))\n",
    "y = [26.199369,18.226538,30.431383]\n",
    "\n",
    "plt.bar(y_pos, y, align='center', color='b', alpha=1)\n",
    "\n",
    "plt.xticks(y_pos, objects)\n",
    "plt.title('NO2 statistics')\n",
    "\n",
    "plt.show()"
   ]
  },
  {
   "cell_type": "markdown",
   "metadata": {},
   "source": [
    "# 5. Pre-Covid(July 2018 to Feb 2020) and Post Covid(March 2020 to July 2020) CO Analysis"
   ]
  },
  {
   "cell_type": "code",
   "execution_count": 38,
   "metadata": {},
   "outputs": [],
   "source": [
    "q1 = \"\"\"SELECT CO FROM df where Date Like '2018%' \"\"\"\n",
    "q2 = \"\"\"SELECT CO FROM df where Date Like '2019%' \"\"\"\n",
    "\n",
    "q3 = \"\"\"SELECT CO FROM df where Date Like '2020-01%' \"\"\"\n",
    "q4 = \"\"\"SELECT CO FROM df where Date Like '2020-02%' \"\"\"\n",
    "q5 = \"\"\"SELECT CO FROM df where Date Like '2020-03%' \"\"\"\n",
    "q6 = \"\"\"SELECT CO FROM df where Date Like '2020-04%' \"\"\"\n",
    "q7 = \"\"\"SELECT CO FROM df where Date Like '2020-05%' \"\"\"\n",
    "q8 = \"\"\"SELECT CO FROM df where Date Like '2020-06%' \"\"\"\n",
    "q9 = \"\"\"SELECT CO FROM df where Date Like '2020-07%' \"\"\""
   ]
  },
  {
   "cell_type": "code",
   "execution_count": 39,
   "metadata": {},
   "outputs": [],
   "source": [
    "COpre = pd.concat([ps.sqldf(q1, locals()) , ps.sqldf(q2, locals()) , ps.sqldf(q3, locals()) , ps.sqldf(q4, locals())],\n",
    "                   ignore_index=True)"
   ]
  },
  {
   "cell_type": "code",
   "execution_count": 40,
   "metadata": {},
   "outputs": [],
   "source": [
    "COpost = pd.concat([ps.sqldf(q5, locals()) , ps.sqldf(q6, locals()) , ps.sqldf(q7, locals()) , ps.sqldf(q8, locals()),\n",
    "                    ps.sqldf(q9, locals())],ignore_index=True)"
   ]
  },
  {
   "cell_type": "code",
   "execution_count": 41,
   "metadata": {},
   "outputs": [
    {
     "name": "stdout",
     "output_type": "stream",
     "text": [
      "CO    2.176367\n",
      "dtype: float64\n"
     ]
    }
   ],
   "source": [
    "avg_COpre = COpre.mean(axis=0)\n",
    "print(avg_COpre)"
   ]
  },
  {
   "cell_type": "code",
   "execution_count": 42,
   "metadata": {},
   "outputs": [
    {
     "name": "stdout",
     "output_type": "stream",
     "text": [
      "CO    0.801356\n",
      "dtype: float64\n"
     ]
    }
   ],
   "source": [
    "avg_COpost = COpost.mean(axis=0)\n",
    "print(avg_COpost)"
   ]
  },
  {
   "cell_type": "code",
   "execution_count": 43,
   "metadata": {},
   "outputs": [
    {
     "name": "stdout",
     "output_type": "stream",
     "text": [
      "CO    63.179179\n",
      "dtype: float64\n"
     ]
    }
   ],
   "source": [
    "decrease_percentage = ((avg_COpre - avg_COpost)/avg_COpre)*100\n",
    "\n",
    "print(decrease_percentage)"
   ]
  },
  {
   "cell_type": "code",
   "execution_count": 44,
   "metadata": {},
   "outputs": [
    {
     "data": {
      "image/png": "[encoded data removed]",
      "text/plain": [
       "<Figure size 640x480 with 1 Axes>"
      ]
     },
     "metadata": {},
     "output_type": "display_data"
    }
   ],
   "source": [
    "objects = ('CO Pre-Covid level','CO Post Covid','Percentage drop in CO level')\n",
    "y_pos = np.arange(len(objects))\n",
    "y = [2.176367,0.801356,63.179179]\n",
    "\n",
    "plt.bar(y_pos, y, align='center', color='b', alpha=1)\n",
    "\n",
    "plt.xticks(y_pos, objects)\n",
    "plt.title('CO statistics')\n",
    "\n",
    "plt.show()"
   ]
  },
  {
   "cell_type": "markdown",
   "metadata": {},
   "source": [
    "# 6. Pre-Covid(July 2018 to Feb 2020) and Post Covid(March 2020 to July 2020) PM10 Analysis"
   ]
  },
  {
   "cell_type": "code",
   "execution_count": 45,
   "metadata": {},
   "outputs": [],
   "source": [
    "q1 = \"\"\"SELECT PM10 FROM df where Date Like '2018%' \"\"\"\n",
    "q2 = \"\"\"SELECT PM10 FROM df where Date Like '2019%' \"\"\"\n",
    "\n",
    "q3 = \"\"\"SELECT PM10 FROM df where Date Like '2020-01%' \"\"\"\n",
    "q4 = \"\"\"SELECT PM10 FROM df where Date Like '2020-02%' \"\"\"\n",
    "q5 = \"\"\"SELECT PM10 FROM df where Date Like '2020-03%' \"\"\"\n",
    "q6 = \"\"\"SELECT PM10 FROM df where Date Like '2020-04%' \"\"\"\n",
    "q7 = \"\"\"SELECT PM10 FROM df where Date Like '2020-05%' \"\"\"\n",
    "q8 = \"\"\"SELECT PM10 FROM df where Date Like '2020-06%' \"\"\"\n",
    "q9 = \"\"\"SELECT PM10 FROM df where Date Like '2020-07%' \"\"\""
   ]
  },
  {
   "cell_type": "code",
   "execution_count": 46,
   "metadata": {},
   "outputs": [],
   "source": [
    "PMpre = pd.concat([ps.sqldf(q1, locals()) , ps.sqldf(q2, locals()) , ps.sqldf(q3, locals()) , ps.sqldf(q4, locals())],\n",
    "                   ignore_index=True)"
   ]
  },
  {
   "cell_type": "code",
   "execution_count": 47,
   "metadata": {},
   "outputs": [],
   "source": [
    "PMpost = pd.concat([ps.sqldf(q5, locals()) , ps.sqldf(q6, locals()) , ps.sqldf(q7, locals()) , ps.sqldf(q8, locals()),\n",
    "                    ps.sqldf(q9, locals())],ignore_index=True)"
   ]
  },
  {
   "cell_type": "code",
   "execution_count": 48,
   "metadata": {},
   "outputs": [
    {
     "name": "stdout",
     "output_type": "stream",
     "text": [
      "PM10    118.4348\n",
      "dtype: float64\n"
     ]
    }
   ],
   "source": [
    "avg_PMpre = PMpre.mean(axis=0)\n",
    "print(avg_PMpre)"
   ]
  },
  {
   "cell_type": "code",
   "execution_count": 49,
   "metadata": {},
   "outputs": [
    {
     "name": "stdout",
     "output_type": "stream",
     "text": [
      "PM10    76.868356\n",
      "dtype: float64\n"
     ]
    }
   ],
   "source": [
    "avg_PMpost = PMpost.mean(axis=0)\n",
    "print(avg_PMpost)"
   ]
  },
  {
   "cell_type": "code",
   "execution_count": 51,
   "metadata": {},
   "outputs": [
    {
     "name": "stdout",
     "output_type": "stream",
     "text": [
      "PM10    35.096479\n",
      "dtype: float64\n"
     ]
    }
   ],
   "source": [
    "decrease_percentage = ((avg_PMpre - avg_PMpost)/avg_PMpre)*100\n",
    "\n",
    "print(decrease_percentage)"
   ]
  },
  {
   "cell_type": "code",
   "execution_count": 52,
   "metadata": {},
   "outputs": [
    {
     "data": {
      "image/png": "[encoded data removed]",
      "text/plain": [
       "<Figure size 640x480 with 1 Axes>"
      ]
     },
     "metadata": {},
     "output_type": "display_data"
    }
   ],
   "source": [
    "objects = ('PM Pre-Covid level','PM Post Covid','Percentage drop in PM level')\n",
    "y_pos = np.arange(len(objects))\n",
    "y = [118.4348,76.868356,35.096479]\n",
    "\n",
    "plt.bar(y_pos, y, align='center', color='b', alpha=1)\n",
    "\n",
    "plt.xticks(y_pos, objects)\n",
    "plt.title('PM statistics')\n",
    "\n",
    "plt.show()"
   ]
  },
  {
   "cell_type": "markdown",
   "metadata": {},
   "source": [
    "# 7.  Pre-Covid(July 2018 to Feb 2020) and Post Covid(March 2020 to July 2020) PM2.5 Analysis"
   ]
  },
  {
   "cell_type": "code",
   "execution_count": 5,
   "metadata": {},
   "outputs": [],
   "source": [
    "df.rename(columns = {'PM2.5':'PM2'}, inplace = True)"
   ]
  },
  {
   "cell_type": "code",
   "execution_count": 6,
   "metadata": {},
   "outputs": [
    {
     "data": {
      "text/plain": [
       "Index(['Unnamed: 0', 'index', 'City', 'Date', 'PM2', 'PM10', 'NO', 'NO2',\n",
       "       'NOx', 'NH3', 'CO', 'SO2', 'O3', 'Benzene', 'Toluene', 'AQI',\n",
       "       'AQI_Bucket'],\n",
       "      dtype='object')"
      ]
     },
     "execution_count": 6,
     "metadata": {},
     "output_type": "execute_result"
    }
   ],
   "source": [
    "df.columns"
   ]
  },
  {
   "cell_type": "code",
   "execution_count": 7,
   "metadata": {},
   "outputs": [],
   "source": [
    "q1 = \"\"\"SELECT PM2 FROM df where Date Like '2018%' \"\"\"\n",
    "q2 = \"\"\"SELECT PM2 FROM df where Date Like '2019%' \"\"\"\n",
    "\n",
    "q3 = \"\"\"SELECT PM2 FROM df where Date Like '2020-01%' \"\"\"\n",
    "q4 = \"\"\"SELECT PM2 FROM df where Date Like '2020-02%' \"\"\"\n",
    "q5 = \"\"\"SELECT PM2 FROM df where Date Like '2020-03%' \"\"\"\n",
    "q6 = \"\"\"SELECT PM2 FROM df where Date Like '2020-04%' \"\"\"\n",
    "q7 = \"\"\"SELECT PM2 FROM df where Date Like '2020-05%' \"\"\"\n",
    "q8 = \"\"\"SELECT PM2 FROM df where Date Like '2020-06%' \"\"\"\n",
    "q9 = \"\"\"SELECT PM2 FROM df where Date Like '2020-07%' \"\"\""
   ]
  },
  {
   "cell_type": "code",
   "execution_count": 8,
   "metadata": {},
   "outputs": [],
   "source": [
    "PM2pre = pd.concat([ps.sqldf(q1, locals()) , ps.sqldf(q2, locals()) , ps.sqldf(q3, locals()) , ps.sqldf(q4, locals())],\n",
    "                   ignore_index=True)"
   ]
  },
  {
   "cell_type": "code",
   "execution_count": 9,
   "metadata": {},
   "outputs": [],
   "source": [
    "PM2post = pd.concat([ps.sqldf(q5, locals()) , ps.sqldf(q6, locals()) , ps.sqldf(q7, locals()) , ps.sqldf(q8, locals()),\n",
    "                    ps.sqldf(q9, locals())],ignore_index=True)"
   ]
  },
  {
   "cell_type": "code",
   "execution_count": 10,
   "metadata": {},
   "outputs": [
    {
     "name": "stdout",
     "output_type": "stream",
     "text": [
      "PM2    57.874565\n",
      "dtype: float64\n"
     ]
    }
   ],
   "source": [
    "avg_PM2pre = PM2pre.mean(axis=0)\n",
    "print(avg_PM2pre)"
   ]
  },
  {
   "cell_type": "code",
   "execution_count": 11,
   "metadata": {},
   "outputs": [
    {
     "name": "stdout",
     "output_type": "stream",
     "text": [
      "PM2    35.985728\n",
      "dtype: float64\n"
     ]
    }
   ],
   "source": [
    "avg_PM2post = PM2post.mean(axis=0)\n",
    "print(avg_PM2post)"
   ]
  },
  {
   "cell_type": "code",
   "execution_count": 12,
   "metadata": {},
   "outputs": [
    {
     "name": "stdout",
     "output_type": "stream",
     "text": [
      "PM2    37.821169\n",
      "dtype: float64\n"
     ]
    }
   ],
   "source": [
    "decrease_percentage = ((avg_PM2pre - avg_PM2post)/avg_PM2pre)*100\n",
    "\n",
    "print(decrease_percentage)"
   ]
  },
  {
   "cell_type": "code",
   "execution_count": 15,
   "metadata": {},
   "outputs": [
    {
     "data": {
      "image/png": "[encoded data removed]",
      "text/plain": [
       "<Figure size 640x480 with 1 Axes>"
      ]
     },
     "metadata": {},
     "output_type": "display_data"
    }
   ],
   "source": [
    "import matplotlib.pyplot as plt; plt.rcdefaults()\n",
    "import matplotlib.pyplot as plt\n",
    "\n",
    "objects = ('PM2.5 Pre-Covid','PM2.5 Post Covid','Percentage drop in PM2.5')\n",
    "y_pos = np.arange(len(objects))\n",
    "y = [57.874565,35.985728,37.821169]\n",
    "\n",
    "#plt.bar(y_pos, y[0], align='center', color='r', alpha=0.5)\n",
    "#plt.bar(y_pos, y[1], align='center', color='y', alpha=0.5)\n",
    "plt.bar(y_pos, y, align='center', color='b', alpha=1)\n",
    "\n",
    "plt.xticks(y_pos, objects)\n",
    "#plt.ylabel('Usage')\n",
    "plt.title('PM2.5 statistics')\n",
    "\n",
    "plt.show()"
   ]
  },
  {
   "cell_type": "markdown",
   "metadata": {},
   "source": [
    "# 8.  Pre-Covid(July 2018 to Feb 2020) and Post Covid(March 2020 to July 2020) Benzene Analysis"
   ]
  },
  {
   "cell_type": "code",
   "execution_count": 16,
   "metadata": {},
   "outputs": [],
   "source": [
    "q1 = \"\"\"SELECT Benzene FROM df where Date Like '2018%' \"\"\"\n",
    "q2 = \"\"\"SELECT Benzene FROM df where Date Like '2019%' \"\"\"\n",
    "\n",
    "q3 = \"\"\"SELECT Benzene FROM df where Date Like '2020-01%' \"\"\"\n",
    "q4 = \"\"\"SELECT Benzene FROM df where Date Like '2020-02%' \"\"\"\n",
    "q5 = \"\"\"SELECT Benzene FROM df where Date Like '2020-03%' \"\"\"\n",
    "q6 = \"\"\"SELECT Benzene FROM df where Date Like '2020-04%' \"\"\"\n",
    "q7 = \"\"\"SELECT Benzene FROM df where Date Like '2020-05%' \"\"\"\n",
    "q8 = \"\"\"SELECT Benzene FROM df where Date Like '2020-06%' \"\"\"\n",
    "q9 = \"\"\"SELECT Benzene FROM df where Date Like '2020-07%' \"\"\""
   ]
  },
  {
   "cell_type": "code",
   "execution_count": 17,
   "metadata": {},
   "outputs": [],
   "source": [
    "pre = pd.concat([ps.sqldf(q1, locals()) , ps.sqldf(q2, locals()) , ps.sqldf(q3, locals()) , ps.sqldf(q4, locals())],\n",
    "                   ignore_index=True)"
   ]
  },
  {
   "cell_type": "code",
   "execution_count": 18,
   "metadata": {},
   "outputs": [],
   "source": [
    "post = pd.concat([ps.sqldf(q5, locals()) , ps.sqldf(q6, locals()) , ps.sqldf(q7, locals()) , ps.sqldf(q8, locals()), ps.sqldf(q9, locals())],\n",
    "                   ignore_index=True)"
   ]
  },
  {
   "cell_type": "code",
   "execution_count": 19,
   "metadata": {},
   "outputs": [
    {
     "name": "stdout",
     "output_type": "stream",
     "text": [
      "Benzene    1.005601\n",
      "dtype: float64\n"
     ]
    }
   ],
   "source": [
    "avg_post = post.mean(axis=0)\n",
    "print(avg_post)"
   ]
  },
  {
   "cell_type": "code",
   "execution_count": 20,
   "metadata": {},
   "outputs": [
    {
     "name": "stdout",
     "output_type": "stream",
     "text": [
      "Benzene    1.566395\n",
      "dtype: float64\n"
     ]
    }
   ],
   "source": [
    "avg_pre = pre.mean(axis=0)\n",
    "print(avg_pre)"
   ]
  },
  {
   "cell_type": "code",
   "execution_count": 21,
   "metadata": {},
   "outputs": [
    {
     "name": "stdout",
     "output_type": "stream",
     "text": [
      "Benzene    35.80153\n",
      "dtype: float64\n"
     ]
    }
   ],
   "source": [
    "decrease_percentage = ((avg_pre - avg_post)/avg_pre)*100\n",
    "\n",
    "print(decrease_percentage)"
   ]
  },
  {
   "cell_type": "code",
   "execution_count": 24,
   "metadata": {},
   "outputs": [
    {
     "data": {
      "image/png": "[encoded data removed]",
      "text/plain": [
       "<Figure size 640x480 with 1 Axes>"
      ]
     },
     "metadata": {},
     "output_type": "display_data"
    }
   ],
   "source": [
    "\n",
    "objects = ('Benzene Pre-Covid','Benzene Post Covid','Percentage drop in Benzene')\n",
    "y_pos = np.arange(len(objects))\n",
    "y = [1.566395,1.005601,35.80153]\n",
    "\n",
    "#plt.bar(y_pos, y[0], align='center', color='r', alpha=0.5)\n",
    "#plt.bar(y_pos, y[1], align='center', color='y', alpha=0.5)\n",
    "plt.bar(y_pos, y, align='center', color='b', alpha=1)\n",
    "\n",
    "plt.xticks(y_pos, objects)\n",
    "#plt.ylabel('Usage')\n",
    "plt.title('Benzene statistics')\n",
    "\n",
    "plt.show()"
   ]
  },
  {
   "cell_type": "code",
   "execution_count": null,
   "metadata": {},
   "outputs": [],
   "source": []
  }
 ],
 "metadata": {
  "kernelspec": {
   "display_name": "Python 3",
   "language": "python",
   "name": "python3"
  },
  "language_info": {
   "codemirror_mode": {
    "name": "ipython",
    "version": 3
   },
   "file_extension": ".py",
   "mimetype": "text/x-python",
   "name": "python",
   "nbconvert_exporter": "python",
   "pygments_lexer": "ipython3",
   "version": "3.7.3"
  }
 },
 "nbformat": 4,
 "nbformat_minor": 2
}
